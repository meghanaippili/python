{
  "nbformat": 4,
  "nbformat_minor": 0,
  "metadata": {
    "colab": {
      "provenance": []
    },
    "kernelspec": {
      "name": "python3",
      "display_name": "Python 3"
    },
    "language_info": {
      "name": "python"
    }
  },
  "cells": [
    {
      "cell_type": "markdown",
      "source": [
        "# DICTIONARY()\n",
        "- it is used to store data in key value pairs , where each key is unique\n",
        "- it is represented by {} separeted by using colons\n",
        "- it doesnt have duplicate\n",
        "- it is mutable"
      ],
      "metadata": {
        "id": "WE6g7Zy4YT7A"
      }
    },
    {
      "cell_type": "code",
      "source": [
        "# examples"
      ],
      "metadata": {
        "id": "Ly3nHvrsajAM"
      },
      "execution_count": null,
      "outputs": []
    },
    {
      "cell_type": "code",
      "source": [
        "intro ={\"Name\" :\" meghana\" , \"age\" : 19}\n",
        "print(type(intro))\n",
        "print(intro)"
      ],
      "metadata": {
        "colab": {
          "base_uri": "https://localhost:8080/"
        },
        "id": "P4Sgj9vtamMc",
        "outputId": "11eef30c-126f-496c-ad66-094c1baf8aec"
      },
      "execution_count": null,
      "outputs": [
        {
          "output_type": "stream",
          "name": "stdout",
          "text": [
            "<class 'dict'>\n",
            "{'Name': ' meghana', 'age': 19}\n"
          ]
        }
      ]
    },
    {
      "cell_type": "code",
      "source": [
        "capitals ={\"india\":\"delhi\",\"andhra pradesh\":\"amarvath\"}\n",
        "print(type(capitals))\n",
        "print(capitals)"
      ],
      "metadata": {
        "colab": {
          "base_uri": "https://localhost:8080/"
        },
        "id": "mzqTLbGzbUqq",
        "outputId": "a6cc8b39-832f-40cd-916b-aa47a9cdf2ed"
      },
      "execution_count": null,
      "outputs": [
        {
          "output_type": "stream",
          "name": "stdout",
          "text": [
            "<class 'dict'>\n",
            "{'india': 'delhi', 'andhra pradesh': 'amarvath'}\n"
          ]
        }
      ]
    },
    {
      "cell_type": "markdown",
      "source": [
        "# DICITONARY METHODS"
      ],
      "metadata": {
        "id": "Iz8fuFRFbx61"
      }
    },
    {
      "cell_type": "code",
      "source": [
        "# POP() - REMOVES THE ITEM FROM SPECIFIED KEY NAME\n"
      ],
      "metadata": {
        "id": "gsZvKc9XccCz"
      },
      "execution_count": null,
      "outputs": []
    },
    {
      "cell_type": "code",
      "source": [
        "intro ={\"name\":\"meghana\",\"age\":19}\n",
        "intro.popitem()\n"
      ],
      "metadata": {
        "colab": {
          "base_uri": "https://localhost:8080/"
        },
        "id": "di9FRtqZch_v",
        "outputId": "22bd2125-83d1-4a6f-cdd3-df5f068be6bd"
      },
      "execution_count": null,
      "outputs": [
        {
          "output_type": "execute_result",
          "data": {
            "text/plain": [
              "('age', 19)"
            ]
          },
          "metadata": {},
          "execution_count": 14
        }
      ]
    },
    {
      "cell_type": "code",
      "source": [
        "capitals={\"india\":\"delhi\",\"andhra pradesh\":\"amarvati\"}\n",
        "capitals.pop(\"india\")"
      ],
      "metadata": {
        "colab": {
          "base_uri": "https://localhost:8080/",
          "height": 36
        },
        "id": "ZjGiGkKDdKcd",
        "outputId": "c9ae43f9-01c4-4e59-b04a-347b99e940c0"
      },
      "execution_count": null,
      "outputs": [
        {
          "output_type": "execute_result",
          "data": {
            "text/plain": [
              "'delhi'"
            ],
            "application/vnd.google.colaboratory.intrinsic+json": {
              "type": "string"
            }
          },
          "metadata": {},
          "execution_count": 17
        }
      ]
    },
    {
      "cell_type": "markdown",
      "source": [
        "# update () - it updates the dicitionary with specified key value pairs"
      ],
      "metadata": {
        "id": "KmSse1NGepV0"
      }
    },
    {
      "cell_type": "code",
      "source": [
        "intro = {\"name\":\"meghana\",\"age\":19}\n",
        "intro.update({\"age\":20})\n",
        "print(intro)\n"
      ],
      "metadata": {
        "colab": {
          "base_uri": "https://localhost:8080/"
        },
        "id": "ltQU_rm4QFKB",
        "outputId": "a6013adb-611c-4fe4-fde8-4dfd3288679f"
      },
      "execution_count": 7,
      "outputs": [
        {
          "output_type": "stream",
          "name": "stdout",
          "text": [
            "{'name': 'meghana', 'age': 20}\n"
          ]
        }
      ]
    },
    {
      "cell_type": "code",
      "source": [
        "intro.update({\"gender\":\"female\"})\n",
        "print(intro)\n"
      ],
      "metadata": {
        "colab": {
          "base_uri": "https://localhost:8080/"
        },
        "id": "hcdGvoYPRkRS",
        "outputId": "110f1698-1c78-49e1-df64-eca82806c1a9"
      },
      "execution_count": 12,
      "outputs": [
        {
          "output_type": "stream",
          "name": "stdout",
          "text": [
            "{'name': 'meghana', 'age': 20, 'gender': 'female'}\n"
          ]
        }
      ]
    },
    {
      "cell_type": "code",
      "source": [
        "intro.update({\"email\":\"meghanaippili@3gmail.com\"})\n",
        "print(intro)\n"
      ],
      "metadata": {
        "colab": {
          "base_uri": "https://localhost:8080/"
        },
        "id": "CyCXmaavSAak",
        "outputId": "1a5e66a0-6c3a-40aa-8dbc-93b39dba87ec"
      },
      "execution_count": 13,
      "outputs": [
        {
          "output_type": "stream",
          "name": "stdout",
          "text": [
            "{'name': 'meghana', 'age': 20, 'gender': 'female', 'email': 'meghanaippili@3gmail.com'}\n"
          ]
        }
      ]
    },
    {
      "cell_type": "code",
      "source": [],
      "metadata": {
        "id": "k1aASdsoShBY"
      },
      "execution_count": null,
      "outputs": []
    }
  ]
}