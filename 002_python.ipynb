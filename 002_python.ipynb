{
  "nbformat": 4,
  "nbformat_minor": 0,
  "metadata": {
    "colab": {
      "provenance": []
    },
    "kernelspec": {
      "name": "python3",
      "display_name": "Python 3"
    },
    "language_info": {
      "name": "python"
    }
  },
  "cells": [
    {
      "cell_type": "code",
      "execution_count": null,
      "metadata": {
        "id": "l3km3V5bE9X_"
      },
      "outputs": [],
      "source": []
    },
    {
      "cell_type": "markdown",
      "source": [],
      "metadata": {
        "id": "4GaTqTu1E_kr"
      }
    },
    {
      "cell_type": "markdown",
      "source": [
        "# What is a data type ?\n",
        "-it is a classification of data based on its format,size\n"
      ],
      "metadata": {
        "id": "_LflSXkNFDP0"
      }
    },
    {
      "cell_type": "markdown",
      "source": [
        "# Data types are of two types\n",
        "- basic\n",
        "- advance\n"
      ],
      "metadata": {
        "id": "H8Z-Ebj2FWkB"
      }
    },
    {
      "cell_type": "markdown",
      "source": [
        "# BASIC TYPES\n",
        "- Int\n",
        "-float\n",
        "-complex\n",
        "-boolean\n"
      ],
      "metadata": {
        "id": "E42Wgi8hF3Br"
      }
    },
    {
      "cell_type": "markdown",
      "source": [
        "# int-integer is a number lies between +infinity and -infinity.\n",
        "- x=5\n",
        "- y=7\n",
        "- z=4\n",
        "- a=-1\n",
        "- b=-5\n",
        "- m=5\n",
        "- age = 19\n",
        "\n",
        "\n"
      ],
      "metadata": {
        "id": "CQtenci8GGrA"
      }
    },
    {
      "cell_type": "markdown",
      "source": [
        "# float - it is in decimal form\n",
        "- x=13.5\n",
        "- m=18.9\n",
        "- weight =45.9\n",
        "- height=55.5\n",
        "- z= 34.8\n"
      ],
      "metadata": {
        "id": "inO4dWnkHWSq"
      }
    },
    {
      "cell_type": "markdown",
      "source": [
        "# complex -combination of real + imaginary numbers(j)\n",
        "- x= 5+6j\n",
        "- average =96+7j\n",
        "- y= 65+45j\n",
        "- c=45+3j\n",
        "\n",
        "\n"
      ],
      "metadata": {
        "id": "ith7jNK1Hymb"
      }
    },
    {
      "cell_type": "markdown",
      "source": [
        "# boolean it says whther it is true or false\n",
        "- x= 15>7\n",
        "- y=2>4\n",
        "- m=3>1\n",
        "- z=5<3\n"
      ],
      "metadata": {
        "id": "4yc2EL5_IaIa"
      }
    },
    {
      "cell_type": "code",
      "source": [],
      "metadata": {
        "id": "rlq4spVkIUhY"
      },
      "execution_count": null,
      "outputs": []
    },
    {
      "cell_type": "markdown",
      "source": [
        "# type conversations\n"
      ],
      "metadata": {
        "id": "L3J2My0pI_ob"
      }
    },
    {
      "cell_type": "code",
      "source": [
        "x=9\n",
        "print(type(x))"
      ],
      "metadata": {
        "colab": {
          "base_uri": "https://localhost:8080/"
        },
        "id": "2hPPTeeYJRAK",
        "outputId": "d508af76-1be3-42eb-f39f-413a3ae7125d"
      },
      "execution_count": 2,
      "outputs": [
        {
          "output_type": "stream",
          "name": "stdout",
          "text": [
            "<class 'int'>\n"
          ]
        }
      ]
    },
    {
      "cell_type": "code",
      "source": [
        "age =38\n",
        "print(type(age))"
      ],
      "metadata": {
        "colab": {
          "base_uri": "https://localhost:8080/"
        },
        "id": "itKD0uzaJeUS",
        "outputId": "289b4657-45fb-436c-f575-be410af6a7c5"
      },
      "execution_count": 3,
      "outputs": [
        {
          "output_type": "stream",
          "name": "stdout",
          "text": [
            "<class 'int'>\n"
          ]
        }
      ]
    },
    {
      "cell_type": "code",
      "source": [
        "score= 220\n",
        "print(type(score))"
      ],
      "metadata": {
        "colab": {
          "base_uri": "https://localhost:8080/"
        },
        "id": "xcr4ewKRJvfz",
        "outputId": "dfcc77b0-462d-49c8-cfca-64aae9081242"
      },
      "execution_count": 4,
      "outputs": [
        {
          "output_type": "stream",
          "name": "stdout",
          "text": [
            "<class 'int'>\n"
          ]
        }
      ]
    },
    {
      "cell_type": "code",
      "source": [
        "height=17.5\n",
        "print(type(height))\n"
      ],
      "metadata": {
        "colab": {
          "base_uri": "https://localhost:8080/"
        },
        "id": "CGV3cWRIKBMf",
        "outputId": "b01cb495-9815-45a7-a71e-9bc207ee7d8a"
      },
      "execution_count": 6,
      "outputs": [
        {
          "output_type": "stream",
          "name": "stdout",
          "text": [
            "<class 'float'>\n"
          ]
        }
      ]
    },
    {
      "cell_type": "code",
      "source": [
        "x = 13.6\n",
        "print(type(x))"
      ],
      "metadata": {
        "colab": {
          "base_uri": "https://localhost:8080/"
        },
        "id": "pvlnCPzKKZX1",
        "outputId": "7f7a9026-daf6-4dcc-c67b-2cda6127d65f"
      },
      "execution_count": 7,
      "outputs": [
        {
          "output_type": "stream",
          "name": "stdout",
          "text": [
            "<class 'float'>\n"
          ]
        }
      ]
    },
    {
      "cell_type": "code",
      "source": [
        "y=3+5j\n",
        "print(type(y))"
      ],
      "metadata": {
        "colab": {
          "base_uri": "https://localhost:8080/"
        },
        "id": "D4wpSJh6KssY",
        "outputId": "9c34bc26-d68c-45e2-944c-eaa0b92e4296"
      },
      "execution_count": 9,
      "outputs": [
        {
          "output_type": "stream",
          "name": "stdout",
          "text": [
            "<class 'complex'>\n"
          ]
        }
      ]
    },
    {
      "cell_type": "code",
      "source": [
        "m=45+6j\n",
        "print(type(m))"
      ],
      "metadata": {
        "colab": {
          "base_uri": "https://localhost:8080/"
        },
        "id": "VxmtldauK1V4",
        "outputId": "0043f06f-a2b7-4b6c-fff2-594b1b2efa8d"
      },
      "execution_count": 10,
      "outputs": [
        {
          "output_type": "stream",
          "name": "stdout",
          "text": [
            "<class 'complex'>\n"
          ]
        }
      ]
    },
    {
      "cell_type": "code",
      "source": [
        "a=14>5\n",
        "print(type(a))"
      ],
      "metadata": {
        "colab": {
          "base_uri": "https://localhost:8080/"
        },
        "id": "j79awPCYLKhO",
        "outputId": "9028aa23-d32e-4134-a8bb-fd77f8ade977"
      },
      "execution_count": 11,
      "outputs": [
        {
          "output_type": "stream",
          "name": "stdout",
          "text": [
            "<class 'bool'>\n"
          ]
        }
      ]
    },
    {
      "cell_type": "code",
      "source": [
        "d=3>1\n",
        "print(type(a))"
      ],
      "metadata": {
        "colab": {
          "base_uri": "https://localhost:8080/"
        },
        "id": "quCkRnmPLTbU",
        "outputId": "b5d9ce65-a0be-4f4b-ec53-affb158b8af7"
      },
      "execution_count": 12,
      "outputs": [
        {
          "output_type": "stream",
          "name": "stdout",
          "text": [
            "<class 'bool'>\n"
          ]
        }
      ]
    },
    {
      "cell_type": "code",
      "source": [],
      "metadata": {
        "id": "eihJUYYZLaO3"
      },
      "execution_count": null,
      "outputs": []
    }
  ]
}