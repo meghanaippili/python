{
  "nbformat": 4,
  "nbformat_minor": 0,
  "metadata": {
    "colab": {
      "provenance": []
    },
    "kernelspec": {
      "name": "python3",
      "display_name": "Python 3"
    },
    "language_info": {
      "name": "python"
    }
  },
  "cells": [
    {
      "cell_type": "markdown",
      "source": [
        "# TUPLE METHOD - it is used for collection of elements (or) order of elements.it is inmutable.represented by(,)"
      ],
      "metadata": {
        "id": "H0-mQ6y0bQK7"
      }
    },
    {
      "cell_type": "code",
      "source": [
        "# EXAMPLES"
      ],
      "metadata": {
        "id": "AGj0RSnJb8Ln"
      },
      "execution_count": 1,
      "outputs": []
    },
    {
      "cell_type": "code",
      "source": [
        "a = (1,2,3,4,5)\n",
        "print(a)\n",
        "print(type(a))"
      ],
      "metadata": {
        "colab": {
          "base_uri": "https://localhost:8080/"
        },
        "id": "tzMKKVYncETg",
        "outputId": "e464f9ed-3677-4590-8ef7-0c5abada4eec"
      },
      "execution_count": 2,
      "outputs": [
        {
          "output_type": "stream",
          "name": "stdout",
          "text": [
            "(1, 2, 3, 4, 5)\n",
            "<class 'tuple'>\n"
          ]
        }
      ]
    },
    {
      "cell_type": "code",
      "source": [
        "b = ('apple','banana','cherry')\n",
        "print(b)\n",
        "print(type(b))"
      ],
      "metadata": {
        "colab": {
          "base_uri": "https://localhost:8080/"
        },
        "id": "AEN4YLuOcNXL",
        "outputId": "c0624a80-cd43-44ff-bc3c-0d8fdb8d7d83"
      },
      "execution_count": 3,
      "outputs": [
        {
          "output_type": "stream",
          "name": "stdout",
          "text": [
            "('apple', 'banana', 'cherry')\n",
            "<class 'tuple'>\n"
          ]
        }
      ]
    },
    {
      "cell_type": "code",
      "source": [
        "c = (1,3,24,True,3+4J,'teks')\n",
        "print(c)\n",
        "print( type(c))"
      ],
      "metadata": {
        "colab": {
          "base_uri": "https://localhost:8080/"
        },
        "id": "nnvlRvHGei2Z",
        "outputId": "43779059-ead6-4d7b-fc9c-9aeb6cb4b342"
      },
      "execution_count": 9,
      "outputs": [
        {
          "output_type": "stream",
          "name": "stdout",
          "text": [
            "(1, 3, 24, True, (3+4j), 'teks')\n",
            "<class 'tuple'>\n"
          ]
        }
      ]
    },
    {
      "cell_type": "code",
      "source": [
        "# tuple is used to access an element"
      ],
      "metadata": {
        "id": "Owvo_h5Me1Gj"
      },
      "execution_count": 8,
      "outputs": []
    },
    {
      "cell_type": "code",
      "source": [
        "a = (1,2,3,4,5)\n",
        "a[3]"
      ],
      "metadata": {
        "colab": {
          "base_uri": "https://localhost:8080/"
        },
        "id": "fKeJs9cQr4BR",
        "outputId": "f7d44215-6956-4e3f-8867-444ba1392f67"
      },
      "execution_count": 11,
      "outputs": [
        {
          "output_type": "execute_result",
          "data": {
            "text/plain": [
              "4"
            ]
          },
          "metadata": {},
          "execution_count": 11
        }
      ]
    },
    {
      "cell_type": "code",
      "source": [
        "c = (1,3,24,True,3+4j,'teks')\n",
        "c[4]"
      ],
      "metadata": {
        "colab": {
          "base_uri": "https://localhost:8080/"
        },
        "id": "hTjdCoOLsEUL",
        "outputId": "dfd165a4-ef10-4f33-8734-19eb51689f3e"
      },
      "execution_count": 13,
      "outputs": [
        {
          "output_type": "execute_result",
          "data": {
            "text/plain": [
              "(3+4j)"
            ]
          },
          "metadata": {},
          "execution_count": 13
        }
      ]
    },
    {
      "cell_type": "markdown",
      "source": [
        "# TUPLE METHODS"
      ],
      "metadata": {
        "id": "sRgtqEhXsi7-"
      }
    },
    {
      "cell_type": "code",
      "source": [
        "len()"
      ],
      "metadata": {
        "id": "u_IO3dKVsmKp"
      },
      "execution_count": 13,
      "outputs": []
    },
    {
      "cell_type": "code",
      "source": [
        "word = ('apple','banana','cherry')\n",
        "print(len(word))"
      ],
      "metadata": {
        "colab": {
          "base_uri": "https://localhost:8080/"
        },
        "id": "vkYAkQVOs7eK",
        "outputId": "0400e6f0-e45a-4e1a-bd8f-f5a3304e908d"
      },
      "execution_count": 16,
      "outputs": [
        {
          "output_type": "stream",
          "name": "stdout",
          "text": [
            "3\n"
          ]
        }
      ]
    },
    {
      "cell_type": "code",
      "source": [
        "letter = ('a','b','c','d','e',)\n",
        "print(len(letter))"
      ],
      "metadata": {
        "colab": {
          "base_uri": "https://localhost:8080/"
        },
        "id": "7kHJ50AJtQhH",
        "outputId": "22629c74-5cca-4178-da08-2ad9531dbc0c"
      },
      "execution_count": 17,
      "outputs": [
        {
          "output_type": "stream",
          "name": "stdout",
          "text": [
            "5\n"
          ]
        }
      ]
    },
    {
      "cell_type": "markdown",
      "source": [
        "# COUNT"
      ],
      "metadata": {
        "id": "uxq2NGiqtiCN"
      }
    },
    {
      "cell_type": "markdown",
      "source": [],
      "metadata": {
        "id": "z5fpCuZpuj7h"
      }
    },
    {
      "cell_type": "code",
      "source": [
        "word = ('i','am','good','girl')\n",
        "word.count( 'good' )"
      ],
      "metadata": {
        "colab": {
          "base_uri": "https://localhost:8080/"
        },
        "id": "0uIeODVat4Tw",
        "outputId": "d7c9b53a-a3de-4f32-cc1e-714643476cf5"
      },
      "execution_count": 20,
      "outputs": [
        {
          "output_type": "execute_result",
          "data": {
            "text/plain": [
              "1"
            ]
          },
          "metadata": {},
          "execution_count": 20
        }
      ]
    },
    {
      "cell_type": "code",
      "source": [
        "name = 'meghana'\n",
        "name.count('a')"
      ],
      "metadata": {
        "colab": {
          "base_uri": "https://localhost:8080/"
        },
        "id": "-zKDscbUuSWD",
        "outputId": "f0a5d98e-06db-4d41-c049-43eb342188de"
      },
      "execution_count": 22,
      "outputs": [
        {
          "output_type": "execute_result",
          "data": {
            "text/plain": [
              "2"
            ]
          },
          "metadata": {},
          "execution_count": 22
        }
      ]
    },
    {
      "cell_type": "markdown",
      "source": [
        "# index"
      ],
      "metadata": {
        "id": "LcGyfFhBusjB"
      }
    },
    {
      "cell_type": "code",
      "source": [
        "letter = ('p','y','t','h','o','n')\n",
        "letter.index('h')"
      ],
      "metadata": {
        "colab": {
          "base_uri": "https://localhost:8080/"
        },
        "id": "FnNGGfisvFN7",
        "outputId": "c30c0019-c647-4e3d-cd87-555fa98f1d3d"
      },
      "execution_count": 23,
      "outputs": [
        {
          "output_type": "execute_result",
          "data": {
            "text/plain": [
              "3"
            ]
          },
          "metadata": {},
          "execution_count": 23
        }
      ]
    },
    {
      "cell_type": "code",
      "source": [
        "quote = ('honesty','is','the','best','policy')\n",
        "quote.index('the')"
      ],
      "metadata": {
        "colab": {
          "base_uri": "https://localhost:8080/"
        },
        "id": "aCRZnX39vXhU",
        "outputId": "f2bd94ee-db38-40cf-80bb-e1acc8b5f57f"
      },
      "execution_count": 24,
      "outputs": [
        {
          "output_type": "execute_result",
          "data": {
            "text/plain": [
              "2"
            ]
          },
          "metadata": {},
          "execution_count": 24
        }
      ]
    },
    {
      "cell_type": "code",
      "source": [],
      "metadata": {
        "id": "Da_D6hvWv5Ih"
      },
      "execution_count": null,
      "outputs": []
    }
  ]
}