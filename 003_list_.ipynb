{
  "nbformat": 4,
  "nbformat_minor": 0,
  "metadata": {
    "colab": {
      "provenance": []
    },
    "kernelspec": {
      "name": "python3",
      "display_name": "Python 3"
    },
    "language_info": {
      "name": "python"
    }
  },
  "cells": [
    {
      "cell_type": "markdown",
      "source": [
        "\n",
        "# LIST\n",
        "- it is a collection of elements\n",
        "- it is represented by [ ] square brackets\n",
        "- we use comma\n",
        "- It is a mutable which means to edit and update\n",
        "\n"
      ],
      "metadata": {
        "id": "6wWmHpiMmjzD"
      }
    },
    {
      "cell_type": "markdown",
      "source": [
        "# Examples\n"
      ],
      "metadata": {
        "id": "_y7K35S_qnfx"
      }
    },
    {
      "cell_type": "code",
      "source": [
        "age = [1,2,3,4]\n",
        "print(age)\n"
      ],
      "metadata": {
        "colab": {
          "base_uri": "https://localhost:8080/"
        },
        "id": "Qv4rxt24r2Kt",
        "outputId": "0be969f0-5f4a-499a-d880-f8854d1fc354"
      },
      "execution_count": null,
      "outputs": [
        {
          "output_type": "stream",
          "name": "stdout",
          "text": [
            "[1, 2, 3, 4]\n"
          ]
        }
      ]
    },
    {
      "cell_type": "code",
      "source": [
        "weights = [50,45,58]\n",
        "print(weights)"
      ],
      "metadata": {
        "colab": {
          "base_uri": "https://localhost:8080/"
        },
        "id": "jLyK0PapsUGz",
        "outputId": "0a52aec2-3c7e-491c-cadf-14d130d36ae8"
      },
      "execution_count": null,
      "outputs": [
        {
          "output_type": "stream",
          "name": "stdout",
          "text": [
            "[50, 45, 58]\n"
          ]
        }
      ]
    },
    {
      "cell_type": "code",
      "source": [
        "char=['m','n','o']\n",
        "print(char)"
      ],
      "metadata": {
        "colab": {
          "base_uri": "https://localhost:8080/"
        },
        "id": "O5OY4jKEtY_u",
        "outputId": "aa69f348-1da3-46e6-9e51-f9101169587d"
      },
      "execution_count": null,
      "outputs": [
        {
          "output_type": "stream",
          "name": "stdout",
          "text": [
            "['m', 'n', 'o']\n"
          ]
        }
      ]
    },
    {
      "cell_type": "code",
      "source": [
        "mul = [24, 13.5 ,(5+7j), True, 'teks']\n",
        "print(mul)"
      ],
      "metadata": {
        "colab": {
          "base_uri": "https://localhost:8080/"
        },
        "id": "mnpe0nuBzjmH",
        "outputId": "77b3f8b7-b6f2-42f2-978a-625fe195f102"
      },
      "execution_count": null,
      "outputs": [
        {
          "output_type": "stream",
          "name": "stdout",
          "text": [
            "[24, 13.5, (5+7j), True, 'teks']\n"
          ]
        }
      ]
    },
    {
      "cell_type": "markdown",
      "source": [
        "# EXPLAIN ABOUT INDEX ?\n",
        "- index is a numeric value represents the position of an element in a list\n",
        "- index allows you to  access and maipulate the elements in a list\n",
        "- index are of two types they are\n",
        "- positive starts from 0 to  infinity   left to right\n",
        "- negative starts from -0 to infinty    right to left\n"
      ],
      "metadata": {
        "id": "P-AvWcpz1SuH"
      }
    },
    {
      "cell_type": "code",
      "source": [
        "index = [1,2,4,'teks','maggi',True]\n",
        "index[3]\n"
      ],
      "metadata": {
        "colab": {
          "base_uri": "https://localhost:8080/",
          "height": 36
        },
        "id": "75j6Eh5K1ODr",
        "outputId": "0988e09e-d97e-4f82-8ef7-a2722ad67a35"
      },
      "execution_count": null,
      "outputs": [
        {
          "output_type": "execute_result",
          "data": {
            "text/plain": [
              "'teks'"
            ],
            "application/vnd.google.colaboratory.intrinsic+json": {
              "type": "string"
            }
          },
          "metadata": {},
          "execution_count": 31
        }
      ]
    },
    {
      "cell_type": "code",
      "source": [
        "Index = [1,2,4,'teks','maggi',True]\n",
        "index[-1]"
      ],
      "metadata": {
        "colab": {
          "base_uri": "https://localhost:8080/"
        },
        "id": "nt1vnfXy3QjI",
        "outputId": "e91189a6-0a2f-4287-a3e4-b8e6c8e00b92"
      },
      "execution_count": null,
      "outputs": [
        {
          "output_type": "execute_result",
          "data": {
            "text/plain": [
              "True"
            ]
          },
          "metadata": {},
          "execution_count": 32
        }
      ]
    },
    {
      "cell_type": "code",
      "source": [
        "speed = [100,110,300,400]\n",
        "speed[3]"
      ],
      "metadata": {
        "colab": {
          "base_uri": "https://localhost:8080/"
        },
        "id": "83CxMD3P5lb3",
        "outputId": "7058c55e-eb95-4df7-cb2e-e94cc0ee78f4"
      },
      "execution_count": null,
      "outputs": [
        {
          "output_type": "execute_result",
          "data": {
            "text/plain": [
              "400"
            ]
          },
          "metadata": {},
          "execution_count": 33
        }
      ]
    },
    {
      "cell_type": "code",
      "source": [
        "weight = [80,40,50,75]\n",
        "weight[-2]"
      ],
      "metadata": {
        "colab": {
          "base_uri": "https://localhost:8080/"
        },
        "id": "_QnLA2XV55fp",
        "outputId": "f32ec01b-e4a4-4aee-f606-61cff2eb124e"
      },
      "execution_count": null,
      "outputs": [
        {
          "output_type": "execute_result",
          "data": {
            "text/plain": [
              "50"
            ]
          },
          "metadata": {},
          "execution_count": 34
        }
      ]
    },
    {
      "cell_type": "code",
      "source": [
        "place = ['delhi','hyderabad','bangalore','chennai']\n",
        "place[2]"
      ],
      "metadata": {
        "colab": {
          "base_uri": "https://localhost:8080/",
          "height": 36
        },
        "id": "9PLqwQ6p6LeA",
        "outputId": "1b906c91-567c-4994-a0ea-5068cf04ce53"
      },
      "execution_count": null,
      "outputs": [
        {
          "output_type": "execute_result",
          "data": {
            "text/plain": [
              "'bangalore'"
            ],
            "application/vnd.google.colaboratory.intrinsic+json": {
              "type": "string"
            }
          },
          "metadata": {},
          "execution_count": 37
        }
      ]
    },
    {
      "cell_type": "markdown",
      "source": [
        "# EXPLAIN ABOUT SLICING ?\n",
        "- it is used to access more than one values present in the list\n"
      ],
      "metadata": {
        "id": "3ieV4oYn63Bl"
      }
    },
    {
      "cell_type": "code",
      "source": [
        "letters = [1,2,33,56,7,3,8,9]\n",
        "letters[1:4]\n"
      ],
      "metadata": {
        "colab": {
          "base_uri": "https://localhost:8080/"
        },
        "id": "U6ytZHAA7Ks8",
        "outputId": "1ca1b329-7b77-414c-9f3f-092c0b74b158"
      },
      "execution_count": null,
      "outputs": [
        {
          "output_type": "execute_result",
          "data": {
            "text/plain": [
              "[2, 33, 56]"
            ]
          },
          "metadata": {},
          "execution_count": 41
        }
      ]
    },
    {
      "cell_type": "code",
      "source": [
        "names = ['megha','maggi','mango','nilli',]\n",
        "names[2:3]"
      ],
      "metadata": {
        "colab": {
          "base_uri": "https://localhost:8080/"
        },
        "id": "wKDYPg_AFTAu",
        "outputId": "28dd02df-d459-4415-bc6e-310a687bbed0"
      },
      "execution_count": null,
      "outputs": [
        {
          "output_type": "execute_result",
          "data": {
            "text/plain": [
              "['mango']"
            ]
          },
          "metadata": {},
          "execution_count": 42
        }
      ]
    },
    {
      "cell_type": "code",
      "source": [
        "speed = [33,56,78,24,67,78,96]\n",
        "speed[1:5]"
      ],
      "metadata": {
        "colab": {
          "base_uri": "https://localhost:8080/"
        },
        "id": "ijNmXZatF8rt",
        "outputId": "3e0d23d2-7a64-40cf-8a88-3e49911fdb36"
      },
      "execution_count": null,
      "outputs": [
        {
          "output_type": "execute_result",
          "data": {
            "text/plain": [
              "[56, 78, 24, 67]"
            ]
          },
          "metadata": {},
          "execution_count": 43
        }
      ]
    },
    {
      "cell_type": "code",
      "source": [
        "age = [32,45,60,25,19,20,28,27]\n",
        "age[2:5]\n"
      ],
      "metadata": {
        "colab": {
          "base_uri": "https://localhost:8080/"
        },
        "id": "Uo-tJfMMGbbY",
        "outputId": "2f46bc57-8d0d-443f-e174-bb3bcf5f04f4"
      },
      "execution_count": null,
      "outputs": [
        {
          "output_type": "execute_result",
          "data": {
            "text/plain": [
              "[60, 25, 19]"
            ]
          },
          "metadata": {},
          "execution_count": 45
        }
      ]
    },
    {
      "cell_type": "code",
      "source": [
        "place = ['delhi,','hyderabad','bangalore','chennai']\n",
        "place[1:4]"
      ],
      "metadata": {
        "id": "2jJJ1umkGyhY",
        "colab": {
          "base_uri": "https://localhost:8080/"
        },
        "outputId": "030e417c-a76f-44ea-f1ff-b3437fa3a318"
      },
      "execution_count": null,
      "outputs": [
        {
          "output_type": "execute_result",
          "data": {
            "text/plain": [
              "['hyderabad', 'bangalore', 'chennai']"
            ]
          },
          "metadata": {},
          "execution_count": 1
        }
      ]
    },
    {
      "cell_type": "code",
      "source": [],
      "metadata": {
        "id": "X08wR-EXVFvq"
      },
      "execution_count": null,
      "outputs": []
    }
  ]
}