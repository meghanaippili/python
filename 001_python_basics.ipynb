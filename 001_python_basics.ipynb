{
  "nbformat": 4,
  "nbformat_minor": 0,
  "metadata": {
    "colab": {
      "provenance": []
    },
    "kernelspec": {
      "name": "python3",
      "display_name": "Python 3"
    },
    "language_info": {
      "name": "python"
    }
  },
  "cells": [
    {
      "cell_type": "markdown",
      "source": [
        "# what is python ?\n",
        "python is a high level programming language . it can easily understand by human beings"
      ],
      "metadata": {
        "id": "hxwlmHGJ7_3f"
      }
    },
    {
      "cell_type": "markdown",
      "source": [
        "# why is python ?\n",
        "it is easy to understand\n",
        "easy to connect with database"
      ],
      "metadata": {
        "id": "QMe7K8eS9LeW"
      }
    },
    {
      "cell_type": "markdown",
      "source": [
        "# Applications of python\n",
        "- web development\n",
        "-data science\n",
        "-game development\n",
        "-machine learning\n",
        "-education\n",
        "-software development\n",
        "-network programming\n",
        "-desktop GUI development"
      ],
      "metadata": {
        "id": "T0Kzof8O_R67"
      }
    },
    {
      "cell_type": "markdown",
      "source": [
        "# Explain About Comments with Example\n",
        "comments are used to add notes or explanations to your code"
      ],
      "metadata": {
        "id": "9jUqhxkb_29S"
      }
    },
    {
      "cell_type": "markdown",
      "source": [
        "Types of comments\n",
        "- single type\n",
        "-multi type"
      ],
      "metadata": {
        "id": "6x_yrJs7Afid"
      }
    },
    {
      "cell_type": "markdown",
      "source": [
        "# Explain about keywords with example ?\n",
        " key words are used to define some data types"
      ],
      "metadata": {
        "id": "i_4K0F_0Aqm0"
      }
    },
    {
      "cell_type": "markdown",
      "source": [
        "# 35 keywords in python ?\n",
        "- and\n",
        "- as\n",
        "- assert\n",
        "- async\n",
        "- break\n",
        "- class\n",
        "- await\n",
        "- def\n",
        "- del\n",
        "- elif\n",
        "- else\n",
        "-except\n",
        "- for\n",
        "- finally\n",
        "-frpm\n",
        "-if\n",
        "-in\n",
        "-is\n",
        "-not\n",
        "-or\n",
        "-false\n",
        "-true\n",
        "-none\n",
        "-pass\n",
        "-return\n",
        "-with\n"
      ],
      "metadata": {
        "id": "W-c_7gkqBwK_"
      }
    },
    {
      "cell_type": "markdown",
      "source": [
        "Explain about variables with examples ?\n",
        "- variables is a name given to value variables are used to store and manipulate data in a program"
      ],
      "metadata": {
        "id": "Q-CBxTUUCo2q"
      }
    },
    {
      "cell_type": "code",
      "source": [
        "a=6\n"
      ],
      "metadata": {
        "id": "-tytAnOHDLIK"
      },
      "execution_count": 2,
      "outputs": []
    },
    {
      "cell_type": "code",
      "source": [
        "y=8"
      ],
      "metadata": {
        "id": "CPiMJfq5EALD"
      },
      "execution_count": 1,
      "outputs": []
    },
    {
      "cell_type": "code",
      "source": [],
      "metadata": {
        "id": "hG6ww1vjEKbe"
      },
      "execution_count": null,
      "outputs": []
    }
  ]
}