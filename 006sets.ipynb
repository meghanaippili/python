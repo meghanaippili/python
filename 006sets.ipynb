{
  "nbformat": 4,
  "nbformat_minor": 0,
  "metadata": {
    "colab": {
      "provenance": []
    },
    "kernelspec": {
      "name": "python3",
      "display_name": "Python 3"
    },
    "language_info": {
      "name": "python"
    }
  },
  "cells": [
    {
      "cell_type": "code",
      "execution_count": null,
      "metadata": {
        "id": "csG7OsaATM2l"
      },
      "outputs": [],
      "source": []
    },
    {
      "cell_type": "markdown",
      "source": [
        "# SET()\n",
        "- Unordered collection -Elements in a set have no specific order.\n",
        "- Duplicate values are automatically removed.\n",
        "- You can add or remove elements are immutable.\n",
        "- Represented Using {} and separated  by \", \""
      ],
      "metadata": {
        "id": "qRxYARNATOSV"
      }
    },
    {
      "cell_type": "code",
      "source": [
        "a = {13,6,2005}\n",
        "print(a)\n",
        "print(type(a))"
      ],
      "metadata": {
        "colab": {
          "base_uri": "https://localhost:8080/"
        },
        "id": "Ufe3Ia_VUhDn",
        "outputId": "d931d625-1b4c-447d-dc50-0e1b83b53e1b"
      },
      "execution_count": 2,
      "outputs": [
        {
          "output_type": "stream",
          "name": "stdout",
          "text": [
            "{13, 2005, 6}\n",
            "<class 'set'>\n"
          ]
        }
      ]
    },
    {
      "cell_type": "code",
      "source": [
        "names = {\"meghana\",\"nithisha\",\"neelima\",}\n",
        "print(names)\n",
        "print(type(names))"
      ],
      "metadata": {
        "colab": {
          "base_uri": "https://localhost:8080/"
        },
        "id": "AogynQznU4Vf",
        "outputId": "c0de6ae1-b336-44ea-8806-1ab2f45462d8"
      },
      "execution_count": 4,
      "outputs": [
        {
          "output_type": "stream",
          "name": "stdout",
          "text": [
            "{'meghana', 'neelima', 'nithisha'}\n",
            "<class 'set'>\n"
          ]
        }
      ]
    },
    {
      "cell_type": "markdown",
      "source": [
        "# - we can convert a list into a set using the set () function."
      ],
      "metadata": {
        "id": "GkiHW9VbVhxx"
      }
    },
    {
      "cell_type": "code",
      "source": [
        "a = set([1,2,3,4,5,6])\n",
        "print(a)\n",
        "print(type(a))"
      ],
      "metadata": {
        "colab": {
          "base_uri": "https://localhost:8080/"
        },
        "id": "po5sTBPGVuMg",
        "outputId": "bda0928a-256e-40f1-b72e-6d24de9cf205"
      },
      "execution_count": 6,
      "outputs": [
        {
          "output_type": "stream",
          "name": "stdout",
          "text": [
            "{1, 2, 3, 4, 5, 6}\n",
            "<class 'set'>\n"
          ]
        }
      ]
    },
    {
      "cell_type": "markdown",
      "source": [
        "- duplicates are automatically removed in the set"
      ],
      "metadata": {
        "id": "NmL66I0LWfzz"
      }
    },
    {
      "cell_type": "code",
      "source": [
        "a = {1,2,3,1,2,3,4,5,1,2,4}\n",
        "print(a)\n",
        "print(type(a))"
      ],
      "metadata": {
        "colab": {
          "base_uri": "https://localhost:8080/"
        },
        "id": "nnvtzyW_W29a",
        "outputId": "2415e367-b1ad-4ac0-d11a-8977b2342378"
      },
      "execution_count": 10,
      "outputs": [
        {
          "output_type": "stream",
          "name": "stdout",
          "text": [
            "{1, 2, 3, 4, 5}\n",
            "<class 'set'>\n"
          ]
        }
      ]
    },
    {
      "cell_type": "markdown",
      "source": [
        "Set Methods:\n",
        "1. add ():\n",
        "-Adds an element to the set"
      ],
      "metadata": {
        "id": "p77ISwRFXaXK"
      }
    },
    {
      "cell_type": "code",
      "source": [
        "a = {1,2,3,4,5,6,7}\n",
        "a. add(8)\n",
        "print(a)"
      ],
      "metadata": {
        "colab": {
          "base_uri": "https://localhost:8080/"
        },
        "id": "c8mkyyCDXthJ",
        "outputId": "6e957192-28a5-4a93-a598-38c9d65b1495"
      },
      "execution_count": 12,
      "outputs": [
        {
          "output_type": "stream",
          "name": "stdout",
          "text": [
            "{1, 2, 3, 4, 5, 6, 7, 8}\n"
          ]
        }
      ]
    },
    {
      "cell_type": "code",
      "source": [
        "fruits ={\"apple\",\"banana\",\"cherry\"}\n",
        "fruits.add(\"orange\")\n",
        "print(fruits)"
      ],
      "metadata": {
        "colab": {
          "base_uri": "https://localhost:8080/"
        },
        "id": "QVlY9lyEYA7w",
        "outputId": "dbcc41a0-7281-4b73-9d73-adecf6272a8e"
      },
      "execution_count": 13,
      "outputs": [
        {
          "output_type": "stream",
          "name": "stdout",
          "text": [
            "{'cherry', 'apple', 'orange', 'banana'}\n"
          ]
        }
      ]
    },
    {
      "cell_type": "markdown",
      "source": [
        "remove()\n",
        "- removes the specified element.\n",
        "- raises an error if not found."
      ],
      "metadata": {
        "id": "LiorgrzKY6Vz"
      }
    },
    {
      "cell_type": "code",
      "source": [
        "a = {1,2,4,3,5,6,7,8}\n",
        "a.remove (3)\n",
        "print(a)\n",
        ""
      ],
      "metadata": {
        "colab": {
          "base_uri": "https://localhost:8080/"
        },
        "id": "I09mORPoZSt7",
        "outputId": "cbd1a4db-6de7-405d-8581-45e785b42969"
      },
      "execution_count": 14,
      "outputs": [
        {
          "output_type": "stream",
          "name": "stdout",
          "text": [
            "{1, 2, 4, 5, 6, 7, 8}\n"
          ]
        }
      ]
    },
    {
      "cell_type": "markdown",
      "source": [
        "update()\n",
        "- used to add multiple elements from another set,list,tuple,or any literable to an existing set."
      ],
      "metadata": {
        "id": "h81zPqjCZwaD"
      }
    },
    {
      "cell_type": "code",
      "source": [
        "a = {1,2,3,4,5,}\n",
        "b = {6,7,8,9,10}\n",
        "a.update(b)\n",
        "print(a)"
      ],
      "metadata": {
        "colab": {
          "base_uri": "https://localhost:8080/"
        },
        "id": "KQEyjuEJaThI",
        "outputId": "431347e7-560a-4f1d-b361-5b93f211dc79"
      },
      "execution_count": 15,
      "outputs": [
        {
          "output_type": "stream",
          "name": "stdout",
          "text": [
            "{1, 2, 3, 4, 5, 6, 7, 8, 9, 10}\n"
          ]
        }
      ]
    },
    {
      "cell_type": "markdown",
      "source": [
        "clear()\n",
        "- used to remove all elements"
      ],
      "metadata": {
        "id": "RxwN1zg-aprm"
      }
    },
    {
      "cell_type": "code",
      "source": [
        "a.clear()\n",
        "print(a)"
      ],
      "metadata": {
        "colab": {
          "base_uri": "https://localhost:8080/"
        },
        "id": "naMxnrb0a4a7",
        "outputId": "b86e4ece-82d8-43be-c2b3-c95cd60bd601"
      },
      "execution_count": 16,
      "outputs": [
        {
          "output_type": "stream",
          "name": "stdout",
          "text": [
            "set()\n"
          ]
        }
      ]
    },
    {
      "cell_type": "markdown",
      "source": [
        "# set operators\n",
        "\n",
        "1.union\n",
        "- the union () method combines two or more sets\n",
        "- returning a new set with all unique elements"
      ],
      "metadata": {
        "id": "ZMujJWPrbfz4"
      }
    },
    {
      "cell_type": "code",
      "source": [
        "a = {1,2,3,4,5}\n",
        "b = {4,5,6,7,8}\n",
        "c = a.union(b)\n",
        "print(c)"
      ],
      "metadata": {
        "colab": {
          "base_uri": "https://localhost:8080/"
        },
        "id": "7-LAfiSMcMvC",
        "outputId": "d5cdc1bc-e88f-4b04-9513-382c41897376"
      },
      "execution_count": 17,
      "outputs": [
        {
          "output_type": "stream",
          "name": "stdout",
          "text": [
            "{1, 2, 3, 4, 5, 6, 7, 8}\n"
          ]
        }
      ]
    },
    {
      "cell_type": "code",
      "source": [
        "# union of 'a' and 'b'"
      ],
      "metadata": {
        "id": "MmzHqlUYcd4v"
      },
      "execution_count": 18,
      "outputs": []
    },
    {
      "cell_type": "code",
      "source": [
        "a | b"
      ],
      "metadata": {
        "colab": {
          "base_uri": "https://localhost:8080/"
        },
        "id": "rk7ygOH4dUki",
        "outputId": "233c1062-b1bb-49b0-c115-92348aa89495"
      },
      "execution_count": 19,
      "outputs": [
        {
          "output_type": "execute_result",
          "data": {
            "text/plain": [
              "{1, 2, 3, 4, 5, 6, 7, 8}"
            ]
          },
          "metadata": {},
          "execution_count": 19
        }
      ]
    },
    {
      "cell_type": "markdown",
      "source": [
        "2 . intersection():\n",
        " - returns a new set containing only the commom elements of two or more sets\n",
        " - the result contains only unique elements that exists in all sets"
      ],
      "metadata": {
        "id": "Hm-SlLzWdnNt"
      }
    },
    {
      "cell_type": "code",
      "source": [
        "a = {1,2,3,4,5}\n",
        "b = {4,5,6,7,8}\n",
        "a.intersection(b)"
      ],
      "metadata": {
        "colab": {
          "base_uri": "https://localhost:8080/"
        },
        "id": "E96cOn1Zdu57",
        "outputId": "4acc6f9f-eec7-46ca-cee8-15dfcabc40a0"
      },
      "execution_count": 20,
      "outputs": [
        {
          "output_type": "execute_result",
          "data": {
            "text/plain": [
              "{4, 5}"
            ]
          },
          "metadata": {},
          "execution_count": 20
        }
      ]
    },
    {
      "cell_type": "code",
      "source": [
        "# intersection of 'a' and 'b'"
      ],
      "metadata": {
        "id": "O70S25URedOi"
      },
      "execution_count": 21,
      "outputs": []
    },
    {
      "cell_type": "code",
      "source": [
        "a&b"
      ],
      "metadata": {
        "colab": {
          "base_uri": "https://localhost:8080/"
        },
        "id": "XH70ZSJCekrM",
        "outputId": "0b281cba-fb54-404f-a75a-7f21119e433a"
      },
      "execution_count": 22,
      "outputs": [
        {
          "output_type": "execute_result",
          "data": {
            "text/plain": [
              "{4, 5}"
            ]
          },
          "metadata": {},
          "execution_count": 22
        }
      ]
    },
    {
      "cell_type": "code",
      "source": [
        "# difference (\"b-a\")"
      ],
      "metadata": {
        "id": "gNTjfb3FesXy"
      },
      "execution_count": 23,
      "outputs": []
    },
    {
      "cell_type": "code",
      "source": [
        "a ={1,2,3,4,5}\n",
        "b ={4,5,6,7,8}\n",
        "b-a"
      ],
      "metadata": {
        "colab": {
          "base_uri": "https://localhost:8080/"
        },
        "id": "VLcS-m-ue0Oh",
        "outputId": "848e431f-8506-4e9d-84f7-f8e1f850ecb8"
      },
      "execution_count": 24,
      "outputs": [
        {
          "output_type": "execute_result",
          "data": {
            "text/plain": [
              "{6, 7, 8}"
            ]
          },
          "metadata": {},
          "execution_count": 24
        }
      ]
    },
    {
      "cell_type": "markdown",
      "source": [
        "symmetric_difference()\n",
        "- returns a new set containing elements that are in either set A or set B, but not in both\n",
        "- you can use the caret ^ operator"
      ],
      "metadata": {
        "id": "LVWAqclFfa4H"
      }
    },
    {
      "cell_type": "code",
      "source": [
        "a = {1, 2, 3, 4, 5}\n",
        "b = {3, 4, 5, 6, 7}\n",
        "result = a.symmetric_difference(b)\n",
        "print(result)"
      ],
      "metadata": {
        "colab": {
          "base_uri": "https://localhost:8080/"
        },
        "id": "ev7fGq0Ef7Ps",
        "outputId": "6f446e11-6490-4455-cebc-aede3b0f0516"
      },
      "execution_count": 25,
      "outputs": [
        {
          "output_type": "stream",
          "name": "stdout",
          "text": [
            "{1, 2, 6, 7}\n"
          ]
        }
      ]
    },
    {
      "cell_type": "code",
      "source": [
        "a^b"
      ],
      "metadata": {
        "colab": {
          "base_uri": "https://localhost:8080/"
        },
        "id": "I7T7H9nEgYpC",
        "outputId": "4adc570d-d308-4b5a-d514-0a4f208f5d9e"
      },
      "execution_count": 26,
      "outputs": [
        {
          "output_type": "execute_result",
          "data": {
            "text/plain": [
              "{1, 2, 6, 7}"
            ]
          },
          "metadata": {},
          "execution_count": 26
        }
      ]
    },
    {
      "cell_type": "code",
      "source": [],
      "metadata": {
        "id": "MCzITpxhgcl6"
      },
      "execution_count": null,
      "outputs": []
    }
  ]
}