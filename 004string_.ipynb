{
  "nbformat": 4,
  "nbformat_minor": 0,
  "metadata": {
    "colab": {
      "provenance": []
    },
    "kernelspec": {
      "name": "python3",
      "display_name": "Python 3"
    },
    "language_info": {
      "name": "python"
    }
  },
  "cells": [
    {
      "cell_type": "markdown",
      "source": [
        "# STRING\n",
        "- sequence of arranging the characters\n",
        "- It is represented by ' ' or \"  \" or triple quoations\n",
        "- triple quoations are also called as comments\n",
        "\n"
      ],
      "metadata": {
        "id": "MraXZKYMp2G0"
      }
    },
    {
      "cell_type": "markdown",
      "source": [
        "# EXAMPLES\n"
      ],
      "metadata": {
        "id": "kfwaC1LsoVQo"
      }
    },
    {
      "cell_type": "code",
      "source": [
        "word = \"DATA SCIENCE \"\n",
        "print(word[3])\n"
      ],
      "metadata": {
        "colab": {
          "base_uri": "https://localhost:8080/"
        },
        "id": "SerDuxkpofEs",
        "outputId": "9ee92389-1928-4b5c-aded-d6227deee8a1"
      },
      "execution_count": null,
      "outputs": [
        {
          "output_type": "stream",
          "name": "stdout",
          "text": [
            "A\n"
          ]
        }
      ]
    },
    {
      "cell_type": "code",
      "source": [],
      "metadata": {
        "id": "tX_9pYgxqhRA"
      },
      "execution_count": null,
      "outputs": []
    },
    {
      "cell_type": "code",
      "source": [
        "print(word[2:7])"
      ],
      "metadata": {
        "colab": {
          "base_uri": "https://localhost:8080/"
        },
        "id": "N-8aRMkTpzaj",
        "outputId": "acda3772-07bf-4886-8b45-21a9bfbdc019"
      },
      "execution_count": null,
      "outputs": [
        {
          "output_type": "stream",
          "name": "stdout",
          "text": [
            "TA SC\n"
          ]
        }
      ]
    },
    {
      "cell_type": "markdown",
      "source": [
        "# . FORMAT METHOD()\n"
      ],
      "metadata": {
        "id": "f04el8oFqC8i"
      }
    },
    {
      "cell_type": "code",
      "source": [
        "# examples"
      ],
      "metadata": {
        "id": "caS7Kx93qdxT"
      },
      "execution_count": null,
      "outputs": []
    },
    {
      "cell_type": "code",
      "source": [
        "name = \"meghana\"\n",
        "age =  19\n",
        "print(\"my name is {} and i am {} years old\".format(name,age))\n"
      ],
      "metadata": {
        "colab": {
          "base_uri": "https://localhost:8080/"
        },
        "id": "xXVKht2gr8g7",
        "outputId": "6ea91fa3-2216-4c3b-f6ba-69ce179464e9"
      },
      "execution_count": null,
      "outputs": [
        {
          "output_type": "stream",
          "name": "stdout",
          "text": [
            "my name is meghana and i am 19 years old\n"
          ]
        }
      ]
    },
    {
      "cell_type": "code",
      "source": [],
      "metadata": {
        "id": "v5pC19j6qsyB"
      },
      "execution_count": null,
      "outputs": []
    },
    {
      "cell_type": "code",
      "source": [
        "institute = \"RBS College\"\n",
        "place = \"visakhapatnam\"\n",
        "print(\"i am studying in {} in {}\".format(institute,place))\n"
      ],
      "metadata": {
        "colab": {
          "base_uri": "https://localhost:8080/"
        },
        "id": "DCCUVz_VKFux",
        "outputId": "b815532b-0daf-445e-fba6-76aaf223432b"
      },
      "execution_count": null,
      "outputs": [
        {
          "output_type": "stream",
          "name": "stdout",
          "text": [
            "i am studying in RBS College in visakhapatnam\n"
          ]
        }
      ]
    },
    {
      "cell_type": "markdown",
      "source": [
        "# F.String method ()\n"
      ],
      "metadata": {
        "id": "0l_9K1ZVL6LC"
      }
    },
    {
      "cell_type": "code",
      "source": [
        "#EXAMPLES"
      ],
      "metadata": {
        "id": "IEuLhCUnMD2t"
      },
      "execution_count": null,
      "outputs": []
    },
    {
      "cell_type": "code",
      "source": [
        "print(f'i am studying in {institute} in {place}')"
      ],
      "metadata": {
        "colab": {
          "base_uri": "https://localhost:8080/"
        },
        "id": "y1fJIstbMJzt",
        "outputId": "2ce99434-5847-4e7d-8808-d4b7c23ce14c"
      },
      "execution_count": null,
      "outputs": [
        {
          "output_type": "stream",
          "name": "stdout",
          "text": [
            "i am studying in RBS College in visakhapatnam\n"
          ]
        }
      ]
    },
    {
      "cell_type": "markdown",
      "source": [
        "# Concatation - combine the word\n"
      ],
      "metadata": {
        "id": "u0Pz2DRUNjjg"
      }
    },
    {
      "cell_type": "code",
      "source": [
        "# EXAMPLES"
      ],
      "metadata": {
        "id": "rA4hoUtmNuF6"
      },
      "execution_count": null,
      "outputs": []
    },
    {
      "cell_type": "code",
      "source": [
        "a = \"hello\"\n",
        "b = \"world\"\n",
        "c = a + \" \" + b\n",
        "print(c)"
      ],
      "metadata": {
        "colab": {
          "base_uri": "https://localhost:8080/"
        },
        "id": "0XWlBzgeNyJ9",
        "outputId": "b0f19c3a-b35b-4e59-bb16-971167d0012d"
      },
      "execution_count": null,
      "outputs": [
        {
          "output_type": "stream",
          "name": "stdout",
          "text": [
            "hello world\n"
          ]
        }
      ]
    },
    {
      "cell_type": "code",
      "source": [
        "word =\"teks\"\n",
        "place = \"hitech city\"\n",
        "print(word + \" \" + place)"
      ],
      "metadata": {
        "colab": {
          "base_uri": "https://localhost:8080/"
        },
        "id": "5zw8AtgzONfr",
        "outputId": "83c3ece7-265f-4b48-f0c2-2c6cab4190e5"
      },
      "execution_count": null,
      "outputs": [
        {
          "output_type": "stream",
          "name": "stdout",
          "text": [
            "teks hitech city\n"
          ]
        }
      ]
    },
    {
      "cell_type": "code",
      "source": [
        "a = \"vizag\"\n",
        "b = \"the city of destiny\"\n",
        "print(a + \" \" + b)"
      ],
      "metadata": {
        "colab": {
          "base_uri": "https://localhost:8080/"
        },
        "id": "BZJFxVsrOe3X",
        "outputId": "39d708d4-6ca6-4878-965c-b471c82e1204"
      },
      "execution_count": null,
      "outputs": [
        {
          "output_type": "stream",
          "name": "stdout",
          "text": [
            "vizag the city of destiny\n"
          ]
        }
      ]
    },
    {
      "cell_type": "markdown",
      "source": [
        "# Repeatation - To Repeat the list\n"
      ],
      "metadata": {
        "id": "BYNTrsbHO7sG"
      }
    },
    {
      "cell_type": "code",
      "source": [
        "sentence = \" i will not come today\"\n",
        "print(sentence * 3)"
      ],
      "metadata": {
        "colab": {
          "base_uri": "https://localhost:8080/"
        },
        "id": "wk2k9LqgPQTR",
        "outputId": "4f7ec946-ba97-44ed-ca16-403052cbc678"
      },
      "execution_count": null,
      "outputs": [
        {
          "output_type": "stream",
          "name": "stdout",
          "text": [
            " i will not come today i will not come today i will not come today\n"
          ]
        }
      ]
    },
    {
      "cell_type": "code",
      "source": [
        "note = \"butter was bitter\"\n",
        "print(note * 5)"
      ],
      "metadata": {
        "colab": {
          "base_uri": "https://localhost:8080/"
        },
        "id": "9LE5-SibPoFH",
        "outputId": "8972470e-5b88-4fc0-dd20-8c798ea0c7c3"
      },
      "execution_count": null,
      "outputs": [
        {
          "output_type": "stream",
          "name": "stdout",
          "text": [
            "butter was bitterbutter was bitterbutter was bitterbutter was bitterbutter was bitter\n"
          ]
        }
      ]
    },
    {
      "cell_type": "code",
      "source": [
        "speech =\" Good morning to all the respected staff \"\n",
        "print(speech * 3)"
      ],
      "metadata": {
        "colab": {
          "base_uri": "https://localhost:8080/"
        },
        "id": "3BsIsXeZP1Vi",
        "outputId": "4322a2ee-53e3-42cc-eb25-eae4c92164d2"
      },
      "execution_count": null,
      "outputs": [
        {
          "output_type": "stream",
          "name": "stdout",
          "text": [
            " Good morning to all the respected staff  Good morning to all the respected staff  Good morning to all the respected staff \n"
          ]
        }
      ]
    },
    {
      "cell_type": "markdown",
      "source": [
        "# STRING METHODS\n"
      ],
      "metadata": {
        "id": "DtvnSyINQSti"
      }
    },
    {
      "cell_type": "markdown",
      "source": [
        "# len() - To measure the list\n"
      ],
      "metadata": {
        "id": "etYeVR5GQsU4"
      }
    },
    {
      "cell_type": "code",
      "source": [
        "a = \"python\"\n",
        "print(len(a))"
      ],
      "metadata": {
        "colab": {
          "base_uri": "https://localhost:8080/"
        },
        "id": "MVGhLorGQ4tP",
        "outputId": "ec8d6370-bce7-4e1b-bb9b-529aabdc98f7"
      },
      "execution_count": null,
      "outputs": [
        {
          "output_type": "stream",
          "name": "stdout",
          "text": [
            "6\n"
          ]
        }
      ]
    },
    {
      "cell_type": "code",
      "source": [
        "place = \"hyderabad\"\n",
        "print(len(place))"
      ],
      "metadata": {
        "colab": {
          "base_uri": "https://localhost:8080/"
        },
        "id": "DOD0ObanQ_zF",
        "outputId": "270e40c3-eb92-41a5-e90c-4e5d625c64f1"
      },
      "execution_count": null,
      "outputs": [
        {
          "output_type": "stream",
          "name": "stdout",
          "text": [
            "9\n"
          ]
        }
      ]
    },
    {
      "cell_type": "code",
      "source": [
        "food = \"biryani\"\n",
        "print(len(food))"
      ],
      "metadata": {
        "colab": {
          "base_uri": "https://localhost:8080/"
        },
        "id": "hxck2LzGRJ4X",
        "outputId": "5ee601fa-88ed-4458-e4a2-e7b309b600e9"
      },
      "execution_count": null,
      "outputs": [
        {
          "output_type": "stream",
          "name": "stdout",
          "text": [
            "7\n"
          ]
        }
      ]
    },
    {
      "cell_type": "code",
      "source": [
        "score = \"pass\"\n",
        "print(len(score))"
      ],
      "metadata": {
        "colab": {
          "base_uri": "https://localhost:8080/"
        },
        "id": "BxC3LwPjRXkj",
        "outputId": "37b7be01-533f-4c01-ef4d-6ace3c2aba75"
      },
      "execution_count": null,
      "outputs": [
        {
          "output_type": "stream",
          "name": "stdout",
          "text": [
            "4\n"
          ]
        }
      ]
    },
    {
      "cell_type": "markdown",
      "source": [
        "# UPPER () - To change the list from lower to upper\n"
      ],
      "metadata": {
        "id": "-fGbwEI7RpBJ"
      }
    },
    {
      "cell_type": "code",
      "source": [
        "# examples"
      ],
      "metadata": {
        "id": "w8svCN8jRyGJ"
      },
      "execution_count": null,
      "outputs": []
    },
    {
      "cell_type": "code",
      "source": [
        "a = \"meghana\"\n",
        "print(a.upper())"
      ],
      "metadata": {
        "colab": {
          "base_uri": "https://localhost:8080/"
        },
        "id": "ryVvQ7khR2tN",
        "outputId": "2f027a91-70c0-4532-b190-568594432dcf"
      },
      "execution_count": null,
      "outputs": [
        {
          "output_type": "stream",
          "name": "stdout",
          "text": [
            "MEGHANA\n"
          ]
        }
      ]
    },
    {
      "cell_type": "code",
      "source": [
        "word = \"mango\"\n",
        "print(word.upper())"
      ],
      "metadata": {
        "colab": {
          "base_uri": "https://localhost:8080/"
        },
        "id": "bs8grzUJSADx",
        "outputId": "0cea085a-f54f-4d10-d604-cff220629be6"
      },
      "execution_count": null,
      "outputs": [
        {
          "output_type": "stream",
          "name": "stdout",
          "text": [
            "MANGO\n"
          ]
        }
      ]
    },
    {
      "cell_type": "code",
      "source": [
        "area = \"banjarra hills\"\n",
        "print(area.upper())"
      ],
      "metadata": {
        "colab": {
          "base_uri": "https://localhost:8080/"
        },
        "id": "YVjDtjXDSiUg",
        "outputId": "235475c1-b35a-421d-e1a6-a60ff6e6aad9"
      },
      "execution_count": null,
      "outputs": [
        {
          "output_type": "stream",
          "name": "stdout",
          "text": [
            "BANJARRA HILLS\n"
          ]
        }
      ]
    },
    {
      "cell_type": "code",
      "source": [
        "chocolate  = \"dairy milk\"\n",
        "print(chocolate.upper())"
      ],
      "metadata": {
        "colab": {
          "base_uri": "https://localhost:8080/"
        },
        "id": "20H6wv4jSvkG",
        "outputId": "8ed45eab-b650-4e32-a72b-2297c75828ed"
      },
      "execution_count": null,
      "outputs": [
        {
          "output_type": "stream",
          "name": "stdout",
          "text": [
            "DAIRY MILK\n"
          ]
        }
      ]
    },
    {
      "cell_type": "code",
      "source": [
        "currency = \"dollar\"\n",
        "print(currency.upper())"
      ],
      "metadata": {
        "id": "Uqj3XpduTA39",
        "colab": {
          "base_uri": "https://localhost:8080/"
        },
        "outputId": "0b93c050-5155-4ad4-b675-56b5955d7e07"
      },
      "execution_count": null,
      "outputs": [
        {
          "output_type": "stream",
          "name": "stdout",
          "text": [
            "DOLLAR\n"
          ]
        }
      ]
    },
    {
      "cell_type": "code",
      "source": [],
      "metadata": {
        "id": "g6iRy-Kpqxex"
      },
      "execution_count": null,
      "outputs": []
    },
    {
      "cell_type": "markdown",
      "source": [
        "# Lower() - To change the list into upper to lower."
      ],
      "metadata": {
        "id": "MVARDD-jrLb-"
      }
    },
    {
      "cell_type": "code",
      "source": [
        "# EXAMPLES"
      ],
      "metadata": {
        "id": "X-0BHJCOrYXw"
      },
      "execution_count": null,
      "outputs": []
    },
    {
      "cell_type": "code",
      "source": [
        "word = \"PYTHON\"\n",
        "print(word.lower())"
      ],
      "metadata": {
        "colab": {
          "base_uri": "https://localhost:8080/"
        },
        "id": "UqtY2rvarcsu",
        "outputId": "3a3b386c-f8d7-41e7-da7f-f1e9d0c86c5b"
      },
      "execution_count": null,
      "outputs": [
        {
          "output_type": "stream",
          "name": "stdout",
          "text": [
            "python\n"
          ]
        }
      ]
    },
    {
      "cell_type": "code",
      "source": [
        "sentence = \"I AM A GOOD GIRL\"\n",
        "print(sentence.lower())"
      ],
      "metadata": {
        "colab": {
          "base_uri": "https://localhost:8080/"
        },
        "id": "XScfOziIruX7",
        "outputId": "52d577e5-ef61-43aa-b1f6-5ca5a15eeac2"
      },
      "execution_count": null,
      "outputs": [
        {
          "output_type": "stream",
          "name": "stdout",
          "text": [
            "i am a good girl\n"
          ]
        }
      ]
    },
    {
      "cell_type": "code",
      "source": [
        "place = \"DELHI\"\n",
        "print(place.lower())"
      ],
      "metadata": {
        "colab": {
          "base_uri": "https://localhost:8080/"
        },
        "id": "dYEGAXPdr_-a",
        "outputId": "26f96267-4754-44d1-fc51-b8dc346515fe"
      },
      "execution_count": null,
      "outputs": [
        {
          "output_type": "stream",
          "name": "stdout",
          "text": [
            "delhi\n"
          ]
        }
      ]
    },
    {
      "cell_type": "code",
      "source": [
        "name = \"MEGHANA\"\n",
        "print(name.lower())"
      ],
      "metadata": {
        "colab": {
          "base_uri": "https://localhost:8080/"
        },
        "id": "Y56re-9asI1w",
        "outputId": "7b7d3311-cbf7-4966-d619-5575b10dac50"
      },
      "execution_count": null,
      "outputs": [
        {
          "output_type": "stream",
          "name": "stdout",
          "text": [
            "meghana\n"
          ]
        }
      ]
    },
    {
      "cell_type": "code",
      "source": [
        "age = \"NINTEEN\"\n",
        "print(age.lower())"
      ],
      "metadata": {
        "colab": {
          "base_uri": "https://localhost:8080/"
        },
        "id": "8NdTdjQdsURC",
        "outputId": "b9ca50c8-e1a3-4d43-f0cc-f240dfcdf4d9"
      },
      "execution_count": null,
      "outputs": [
        {
          "output_type": "stream",
          "name": "stdout",
          "text": [
            "ninteen\n"
          ]
        }
      ]
    },
    {
      "cell_type": "markdown",
      "source": [
        "# COUNT()"
      ],
      "metadata": {
        "id": "8nxIvf-ssrF8"
      }
    },
    {
      "cell_type": "code",
      "source": [
        "# EXAMPLES"
      ],
      "metadata": {
        "id": "-5WPLpbjsu1f"
      },
      "execution_count": null,
      "outputs": []
    },
    {
      "cell_type": "code",
      "source": [
        "a = \"data science\"\n",
        "print(a.count(\"e\"))"
      ],
      "metadata": {
        "colab": {
          "base_uri": "https://localhost:8080/"
        },
        "id": "ypGHxyLJsy7B",
        "outputId": "8d1e2d07-2619-4065-beb1-e12f3c264617"
      },
      "execution_count": null,
      "outputs": [
        {
          "output_type": "stream",
          "name": "stdout",
          "text": [
            "2\n"
          ]
        }
      ]
    },
    {
      "cell_type": "code",
      "source": [
        "name = \"meghana\"\n",
        "print(name.count('g'))"
      ],
      "metadata": {
        "colab": {
          "base_uri": "https://localhost:8080/"
        },
        "id": "NMw405Iss95V",
        "outputId": "18e63646-4dae-48f7-f41b-a60709856b53"
      },
      "execution_count": null,
      "outputs": [
        {
          "output_type": "stream",
          "name": "stdout",
          "text": [
            "1\n"
          ]
        }
      ]
    },
    {
      "cell_type": "code",
      "source": [
        "place = \"hyderabad\"\n",
        "print(place.count('a'))"
      ],
      "metadata": {
        "colab": {
          "base_uri": "https://localhost:8080/"
        },
        "id": "jJqjhr74tNN1",
        "outputId": "70a510ab-520b-4be8-f4e1-03131b50d10e"
      },
      "execution_count": null,
      "outputs": [
        {
          "output_type": "stream",
          "name": "stdout",
          "text": [
            "2\n"
          ]
        }
      ]
    },
    {
      "cell_type": "markdown",
      "source": [
        "# SPLIT ()- To split the data"
      ],
      "metadata": {
        "id": "13llhpv1tb4Z"
      }
    },
    {
      "cell_type": "code",
      "source": [
        "# EXAMPLES"
      ],
      "metadata": {
        "id": "W4LeJFdwthbu"
      },
      "execution_count": null,
      "outputs": []
    },
    {
      "cell_type": "code",
      "source": [
        "a = \"i am not gonna come tomorrow\"\n",
        "print(a.split())"
      ],
      "metadata": {
        "colab": {
          "base_uri": "https://localhost:8080/"
        },
        "id": "L_RRuOgptseI",
        "outputId": "3b2e789e-d02e-4f01-8ae1-816724c73bc1"
      },
      "execution_count": null,
      "outputs": [
        {
          "output_type": "stream",
          "name": "stdout",
          "text": [
            "['i', 'am', 'not', 'gonna', 'come', 'tomorrow']\n"
          ]
        }
      ]
    },
    {
      "cell_type": "code",
      "source": [
        "m = \"vizag is the city of destiny\"\n",
        "print(m.split())"
      ],
      "metadata": {
        "colab": {
          "base_uri": "https://localhost:8080/"
        },
        "id": "4MlZTTuUt55L",
        "outputId": "ab68a3dc-4592-4583-ab46-86fa07d6d4f1"
      },
      "execution_count": null,
      "outputs": [
        {
          "output_type": "stream",
          "name": "stdout",
          "text": [
            "['vizag', 'is', 'the', 'city', 'of', 'destiny']\n"
          ]
        }
      ]
    },
    {
      "cell_type": "code",
      "source": [],
      "metadata": {
        "id": "M6hDphxpuFck"
      },
      "execution_count": null,
      "outputs": []
    },
    {
      "cell_type": "markdown",
      "source": [
        "# STRIP() - To remove the white space in starting and ending of the element"
      ],
      "metadata": {
        "id": "Ufd1fU-uuJye"
      }
    },
    {
      "cell_type": "code",
      "source": [
        "# EXAMPLES"
      ],
      "metadata": {
        "id": "VvY5sr86uWZE"
      },
      "execution_count": null,
      "outputs": []
    },
    {
      "cell_type": "code",
      "source": [
        "a = \"_meghana\"\n",
        "print(a.strip())"
      ],
      "metadata": {
        "colab": {
          "base_uri": "https://localhost:8080/"
        },
        "id": "6DU8iVZfub9I",
        "outputId": "03670139-1a4d-4cb6-9bb4-c42cf9c29fc6"
      },
      "execution_count": null,
      "outputs": [
        {
          "output_type": "stream",
          "name": "stdout",
          "text": [
            "_meghana\n"
          ]
        }
      ]
    },
    {
      "cell_type": "code",
      "source": [
        "b = \"_my world\"\n",
        "print(b.strip())"
      ],
      "metadata": {
        "colab": {
          "base_uri": "https://localhost:8080/"
        },
        "id": "FzPMbM68uloE",
        "outputId": "36898684-736d-48ae-e9d2-83faa7e36b45"
      },
      "execution_count": null,
      "outputs": [
        {
          "output_type": "stream",
          "name": "stdout",
          "text": [
            "_my world\n"
          ]
        }
      ]
    },
    {
      "cell_type": "code",
      "source": [],
      "metadata": {
        "id": "E3WtN_8Ru4XK"
      },
      "execution_count": null,
      "outputs": []
    }
  ]
}